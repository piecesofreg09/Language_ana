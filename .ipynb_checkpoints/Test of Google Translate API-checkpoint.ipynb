{
 "cells": [
  {
   "cell_type": "code",
   "execution_count": 13,
   "metadata": {},
   "outputs": [
    {
     "name": "stdout",
     "output_type": "stream",
     "text": [
      "Text: ['und', 'die', 'der', 'sie', 'er', 'in', 'zu', 'das', 'den', 'ich', 'nicht', 'sich', 'mit', 'da', 'es', 'dem', 'ein', 'von', 'auf', 'so', 'aber', 'war', 'wie', 'f', 'ist', 'an', 'als', 'auch', 'h', 'eine', 'r', 'noch', 'm', 'des', 'ihr', 'ihm', 'was', 'w', 'nur', 'hatte', 'k', 'the', 'im', 'wenn', 'ber', 'um', 'mir', 'ihn', 'aus', 'nach', 'sein', 's', 'einen', 'du', 'sagte', 'vor', 'doch', 'denn', 'jetzt', 'wieder', 't', 'wir', 'mich', 'seine', 'einem', 'zur', 'haben', 'dann', 'en', 'of', 'ja', 'hat', 'te', 'schon', 'man', 'einer', 'bei', 'hier', 'durch', 'n', 'mu', 'ihre', 'l', 'oder', 'mehr', 'nun', 'gutenberg', 'sch', 'ihnen', 'e', 'herr', 'frau', 'project', 'immer', 'seiner', 'habe', 'am', 'ck', 'to', 'or']\n",
      "Translation: ['and', 'the', 'the', 'you', 'he', 'in', 'to', 'the', 'the', 'I', 'Not', 'yourself', 'With', 'there', 'it', 'the', 'on', 'from', 'on', 'so', 'but', 'was', 'as', 'f', 'is', 'on', 'when', 'also', 'H', 'a', 'r', 'still', 'm', 'of', 'their', 'him', 'What', 'w', 'just', 'would have', 'k', 'the', 'in the', 'if', 'about', 'around', 'me', 'him', 'out', 'to', 'his', 's', 'one', 'you', 'said', 'in front', 'but', 'because', 'now', 'again', 't', 'we', 'me', 'his', 'one', 'to', 'to have', 'then', 's', 'of', 'Yes', 'Has', 'th', 'beautiful', 'you', 'one', 'at', 'here', 'by', 'n', 'mu', 'your', 'l', 'or', 'more', 'now', 'Gutenberg', 'sch', 'them', 'e', 'Sir', 'Mrs', 'project', 'always', 'its', 'have', 'at the', 'ck', 'to', 'or']\n"
     ]
    }
   ],
   "source": [
    "from google.cloud import translate\n",
    "\n",
    "# Instantiates a client\n",
    "translate_client = translate.Client()\n",
    "\n",
    "# The text to translate\n",
    "text = ['und', 'die', 'der', 'sie', 'er', 'in', 'zu', 'das', 'den',\n",
    "        'ich', 'nicht', 'sich', 'mit', 'da', 'es', 'dem', 'ein', 'von',\n",
    "        'auf', 'so', 'aber', 'war', 'wie', 'f', 'ist', 'an', 'als', 'auch',\n",
    "        'h', 'eine', 'r', 'noch', 'm', 'des', 'ihr', 'ihm', 'was',\n",
    "        'w', 'nur', 'hatte', 'k', 'the', 'im', 'wenn', 'ber', 'um', 'mir',\n",
    "        'ihn', 'aus', 'nach', 'sein', 's', 'einen', 'du', 'sagte', 'vor', \n",
    "        'doch', 'denn', 'jetzt', 'wieder', 't', 'wir', 'mich', 'seine', \n",
    "        'einem', 'zur', 'haben', 'dann', 'en', 'of', 'ja', 'hat', 'te', \n",
    "        'schon', 'man', 'einer', 'bei', 'hier', 'durch', 'n', 'mu', 'ihre',\n",
    "        'l', 'oder', 'mehr', 'nun', 'gutenberg', 'sch', 'ihnen', 'e', 'herr',\n",
    "        'frau', 'project', 'immer', 'seiner', 'habe', 'am', 'ck', 'to', 'or']\n",
    "# The target language\n",
    "target = 'en'\n",
    "source = 'de'\n",
    "\n",
    "# Translates some text into Russian\n",
    "translation = translate_client.translate(\n",
    "    text,\n",
    "    source_language=source,\n",
    "    target_language=target)\n",
    "\n",
    "print(u'Text: {}'.format(text))\n",
    "print(u'Translation: {}'.format([i['translatedText'] for i in translation]))"
   ]
  },
  {
   "cell_type": "code",
   "execution_count": 7,
   "metadata": {},
   "outputs": [
    {
     "data": {
      "text/plain": [
       "[{'translatedText': 'Hallo Welt!', 'input': 'Hello, world!'},\n",
       " {'translatedText': 'Show', 'input': 'show'}]"
      ]
     },
     "execution_count": 7,
     "metadata": {},
     "output_type": "execute_result"
    }
   ],
   "source": [
    "translation"
   ]
  },
  {
   "cell_type": "code",
   "execution_count": null,
   "metadata": {},
   "outputs": [],
   "source": []
  }
 ],
 "metadata": {
  "kernelspec": {
   "display_name": "Python 3",
   "language": "python",
   "name": "python3"
  },
  "language_info": {
   "codemirror_mode": {
    "name": "ipython",
    "version": 3
   },
   "file_extension": ".py",
   "mimetype": "text/x-python",
   "name": "python",
   "nbconvert_exporter": "python",
   "pygments_lexer": "ipython3",
   "version": "3.6.7"
  }
 },
 "nbformat": 4,
 "nbformat_minor": 2
}
