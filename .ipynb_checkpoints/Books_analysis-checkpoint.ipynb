{
 "cells": [
  {
   "cell_type": "code",
   "execution_count": 6,
   "metadata": {},
   "outputs": [],
   "source": [
    "import wordsegment\n",
    "from bs4 import BeautifulSoup\n",
    "import requests"
   ]
  },
  {
   "cell_type": "code",
   "execution_count": 2,
   "metadata": {},
   "outputs": [],
   "source": [
    "import re\n",
    "from collections import Counter\n",
    "\n",
    "def tokenize(text):\n",
    "    pattern = re.compile('[a-zA-Z]+')\n",
    "    return (match.group(0) for match in pattern.finditer(text))\n",
    "\n",
    "def pairs(iterable):\n",
    "    iterator = iter(iterable)\n",
    "    values = [next(iterator)]\n",
    "    for value in iterator:\n",
    "        values.append(value)\n",
    "        yield ' '.join(values)\n",
    "        del values[0]"
   ]
  },
  {
   "cell_type": "code",
   "execution_count": 3,
   "metadata": {},
   "outputs": [],
   "source": [
    "wordsegment.load()"
   ]
  },
  {
   "cell_type": "markdown",
   "metadata": {},
   "source": [
    "English Books"
   ]
  },
  {
   "cell_type": "code",
   "execution_count": null,
   "metadata": {},
   "outputs": [],
   "source": [
    "books = ['https://www.gutenberg.org/ebooks/1342.txt.utf-8',\n",
    "         'http://www.gutenberg.org/files/1342/1342.txt',\n",
    "         'http://www.gutenberg.org/files/158/158.txt',\n",
    "         'http://www.gutenberg.org/cache/epub/161/pg161.txt',\n",
    "         'http://www.gutenberg.org/files/121/121-0.txt',\n",
    "         'http://www.gutenberg.org/files/141/141-0.txt',\n",
    "         'http://www.gutenberg.org/cache/epub/946/pg946.txt',\n",
    "         'http://www.gutenberg.org/files/1212/1212-0.txt'        ]"
   ]
  },
  {
   "cell_type": "code",
   "execution_count": null,
   "metadata": {},
   "outputs": [],
   "source": [
    "text = ''\n",
    "for book_link in books:\n",
    "    response = requests.get(book_link)\n",
    "    text = text + response.text\n",
    "    print(len(text))"
   ]
  },
  {
   "cell_type": "code",
   "execution_count": null,
   "metadata": {},
   "outputs": [],
   "source": [
    "wordsegment.UNIGRAMS.clear()\n",
    "wordsegment.UNIGRAMS.update(Counter(tokenize(text)))\n",
    "\n",
    "wordsegment.BIGRAMS.clear()\n",
    "wordsegment.BIGRAMS.update(Counter(pairs(tokenize(text))))"
   ]
  },
  {
   "cell_type": "code",
   "execution_count": null,
   "metadata": {},
   "outputs": [],
   "source": [
    "uni = list(wordsegment.UNIGRAMS.items())\n",
    "uni.sort(key=lambda x: x[1], reverse=True)"
   ]
  },
  {
   "cell_type": "code",
   "execution_count": null,
   "metadata": {},
   "outputs": [],
   "source": [
    "uni[0:50]"
   ]
  },
  {
   "cell_type": "code",
   "execution_count": null,
   "metadata": {},
   "outputs": [],
   "source": [
    "big = list(wordsegment.BIGRAMS.items())\n",
    "big.sort(key=lambda x: x[1], reverse=True)"
   ]
  },
  {
   "cell_type": "code",
   "execution_count": null,
   "metadata": {},
   "outputs": [],
   "source": [
    "big[50:100]"
   ]
  },
  {
   "cell_type": "markdown",
   "metadata": {},
   "source": [
    "German Books"
   ]
  },
  {
   "cell_type": "code",
   "execution_count": 25,
   "metadata": {},
   "outputs": [],
   "source": [
    "german_link = ['http://www.gutenberg.org/ebooks/subject/18100', \n",
    "               'http://www.gutenberg.org/ebooks/subject/18100?start_index=26',\n",
    "               'http://www.gutenberg.org/ebooks/subject/18100?start_index=51']"
   ]
  },
  {
   "cell_type": "code",
   "execution_count": 29,
   "metadata": {},
   "outputs": [
    {
     "name": "stdout",
     "output_type": "stream",
     "text": [
      "25\n",
      "1 book links added.\n",
      "2 book links added.\n",
      "3 book links added.\n",
      "4 book links added.\n",
      "5 book links added.\n",
      "6 book links added.\n",
      "7 book links added.\n",
      "8 book links added.\n",
      "9 book links added.\n",
      "10 book links added.\n",
      "11 book links added.\n",
      "12 book links added.\n",
      "13 book links added.\n",
      "14 book links added.\n",
      "15 book links added.\n",
      "16 book links added.\n",
      "17 book links added.\n",
      "18 book links added.\n",
      "19 book links added.\n",
      "20 book links added.\n",
      "21 book links added.\n",
      "22 book links added.\n",
      "23 book links added.\n",
      "24 book links added.\n",
      "25 book links added.\n",
      "25\n",
      "26 book links added.\n",
      "27 book links added.\n",
      "28 book links added.\n",
      "29 book links added.\n",
      "30 book links added.\n",
      "31 book links added.\n",
      "32 book links added.\n",
      "33 book links added.\n",
      "34 book links added.\n",
      "35 book links added.\n",
      "36 book links added.\n",
      "37 book links added.\n",
      "38 book links added.\n",
      "39 book links added.\n",
      "40 book links added.\n",
      "41 book links added.\n",
      "42 book links added.\n",
      "43 book links added.\n",
      "44 book links added.\n",
      "45 book links added.\n",
      "46 book links added.\n",
      "47 book links added.\n",
      "48 book links added.\n",
      "49 book links added.\n",
      "50 book links added.\n",
      "Wall time: 1min 6s\n"
     ]
    }
   ],
   "source": [
    "%%time\n",
    "german_text = ''\n",
    "all_book_links = []\n",
    "count = 0\n",
    "for page_link in german_link:\n",
    "    response = requests.get(page_link)\n",
    "    soup = BeautifulSoup(response.content, 'html.parser')\n",
    "    book_links = soup.find_all('li', {'class': 'booklink'})\n",
    "    #print(book_links)\n",
    "    print(len(book_links))\n",
    "    for book_link in book_links:\n",
    "        #print(book_link)\n",
    "        #print(book_link.a['href'])\n",
    "        #print(book_link.text.strip())\n",
    "        real_book_link = 'http://www.gutenberg.org' + book_link.a['href']\n",
    "        response = requests.get(real_book_link)\n",
    "        soup = BeautifulSoup(response.content, 'html.parser')\n",
    "        utf_a = soup.find('a', type=lambda x: x and 'text/plain' in x)\n",
    "        \n",
    "        utf_link = utf_a['href']\n",
    "        #print(utf_link)\n",
    "        #print('\\n')\n",
    "        all_book_links.append('http:' + utf_link)\n",
    "        count = count + 1\n",
    "        print(str(count) + ' book links added.')\n",
    "        "
   ]
  },
  {
   "cell_type": "code",
   "execution_count": 30,
   "metadata": {},
   "outputs": [],
   "source": [
    "import pickle\n",
    "with open('all_book_links.pkl', 'wb') as outfile:\n",
    "    pickle.dump(all_book_links, outfile)\n",
    "with open('all_book_links.pkl', 'rb') as infile:\n",
    "    temp = pickle.load(infile)"
   ]
  },
  {
   "cell_type": "code",
   "execution_count": 31,
   "metadata": {},
   "outputs": [
    {
     "data": {
      "text/plain": [
       "['http://www.gutenberg.org/ebooks/29376.txt.utf-8',\n",
       " 'http://www.gutenberg.org/ebooks/2403.txt.utf-8',\n",
       " 'http://www.gutenberg.org/files/53628/53628-0.txt']"
      ]
     },
     "execution_count": 31,
     "metadata": {},
     "output_type": "execute_result"
    }
   ],
   "source": [
    "temp[:3]"
   ]
  },
  {
   "cell_type": "code",
   "execution_count": null,
   "metadata": {},
   "outputs": [],
   "source": [
    "\n",
    "\n",
    "from googletrans import Translator\n",
    "translator = Translator()\n"
   ]
  },
  {
   "cell_type": "code",
   "execution_count": null,
   "metadata": {},
   "outputs": [],
   "source": [
    "x1 = translator.translate('안녕하세요.')\n",
    "\n",
    "x2 = translator.translate('안녕하세요.', dest='ja')\n",
    "\n",
    "x3 = translator.translate('veritas lux mea', src='la')\n"
   ]
  },
  {
   "cell_type": "code",
   "execution_count": null,
   "metadata": {},
   "outputs": [],
   "source": [
    "x1.text"
   ]
  },
  {
   "cell_type": "code",
   "execution_count": null,
   "metadata": {},
   "outputs": [],
   "source": [
    "x2.text"
   ]
  },
  {
   "cell_type": "code",
   "execution_count": null,
   "metadata": {},
   "outputs": [],
   "source": [
    "x3.text"
   ]
  },
  {
   "cell_type": "code",
   "execution_count": null,
   "metadata": {},
   "outputs": [],
   "source": []
  }
 ],
 "metadata": {
  "kernelspec": {
   "display_name": "Python 3",
   "language": "python",
   "name": "python3"
  },
  "language_info": {
   "codemirror_mode": {
    "name": "ipython",
    "version": 3
   },
   "file_extension": ".py",
   "mimetype": "text/x-python",
   "name": "python",
   "nbconvert_exporter": "python",
   "pygments_lexer": "ipython3",
   "version": "3.6.7"
  }
 },
 "nbformat": 4,
 "nbformat_minor": 2
}
