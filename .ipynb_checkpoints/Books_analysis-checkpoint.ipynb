{
 "cells": [
  {
   "cell_type": "code",
   "execution_count": 37,
   "metadata": {},
   "outputs": [],
   "source": [
    "import wordsegment\n",
    "from bs4 import BeautifulSoup\n",
    "import requests\n",
    "import pickle\n",
    "from tqdm import tqdm\n",
    "import pandas as pd\n",
    "from googletrans import Translator"
   ]
  },
  {
   "cell_type": "code",
   "execution_count": 26,
   "metadata": {},
   "outputs": [],
   "source": [
    "import re\n",
    "from collections import Counter\n",
    "\n",
    "wordsegment.load()\n",
    "\n",
    "def tokenize(text):\n",
    "    pattern = re.compile('[a-zA-Z]+')\n",
    "    return (match.group(0) for match in pattern.finditer(text))\n",
    "\n",
    "def pairs(iterable):\n",
    "    iterator = iter(iterable)\n",
    "    values = [next(iterator)]\n",
    "    for value in iterator:\n",
    "        values.append(value)\n",
    "        yield ' '.join(values)\n",
    "        del values[0]"
   ]
  },
  {
   "cell_type": "code",
   "execution_count": 27,
   "metadata": {},
   "outputs": [],
   "source": [
    "def get_uni_bi_grams(text):\n",
    "    wordsegment.UNIGRAMS.clear()\n",
    "    wordsegment.UNIGRAMS.update(Counter(tokenize(text)))\n",
    "\n",
    "    wordsegment.BIGRAMS.clear()\n",
    "    wordsegment.BIGRAMS.update(Counter(pairs(tokenize(text))))\n",
    "    \n",
    "    unigrams = wordsegment.UNIGRAMS\n",
    "    uni = list(wordsegment.UNIGRAMS.items())\n",
    "    uni.sort(key=lambda x: x[1], reverse=True)\n",
    "\n",
    "    bigrams = wordsegment.BIGRAMS\n",
    "    big = list(wordsegment.BIGRAMS.items())\n",
    "    big.sort(key=lambda x: x[1], reverse=True)\n",
    "    \n",
    "    return {'dictt': {'uni': unigrams, 'bi': bigrams},\n",
    "            'listt': {'uni': uni, 'bi': big}}"
   ]
  },
  {
   "cell_type": "markdown",
   "metadata": {},
   "source": [
    "English Books"
   ]
  },
  {
   "cell_type": "code",
   "execution_count": 18,
   "metadata": {},
   "outputs": [],
   "source": [
    "english_book_links = ['https://www.gutenberg.org/ebooks/1342.txt.utf-8',\n",
    "         'http://www.gutenberg.org/files/1342/1342.txt',\n",
    "         'http://www.gutenberg.org/files/158/158.txt',\n",
    "         'http://www.gutenberg.org/cache/epub/161/pg161.txt',\n",
    "         'http://www.gutenberg.org/files/121/121-0.txt',\n",
    "         'http://www.gutenberg.org/files/141/141-0.txt',\n",
    "         'http://www.gutenberg.org/cache/epub/946/pg946.txt',\n",
    "         'http://www.gutenberg.org/files/1212/1212-0.txt']"
   ]
  },
  {
   "cell_type": "code",
   "execution_count": 19,
   "metadata": {},
   "outputs": [
    {
     "name": "stderr",
     "output_type": "stream",
     "text": [
      "100%|████████████████████████████████████████████| 8/8 [00:03<00:00,  3.23it/s]\n"
     ]
    }
   ],
   "source": [
    "eng_text = ''\n",
    "for book_link in tqdm(english_book_links):\n",
    "    response = requests.get(book_link)\n",
    "    eng_text = eng_text + response.text"
   ]
  },
  {
   "cell_type": "code",
   "execution_count": 23,
   "metadata": {},
   "outputs": [],
   "source": [
    "eng_res = get_uni_bi_grams(eng_text)"
   ]
  },
  {
   "cell_type": "code",
   "execution_count": 28,
   "metadata": {},
   "outputs": [],
   "source": [
    "eng_uni = pd.DataFrame(eng_res['listt']['uni'])\n",
    "eng_bi = pd.DataFrame(eng_res['listt']['bi'])"
   ]
  },
  {
   "cell_type": "code",
   "execution_count": 32,
   "metadata": {},
   "outputs": [
    {
     "data": {
      "text/html": [
       "<div>\n",
       "<style scoped>\n",
       "    .dataframe tbody tr th:only-of-type {\n",
       "        vertical-align: middle;\n",
       "    }\n",
       "\n",
       "    .dataframe tbody tr th {\n",
       "        vertical-align: top;\n",
       "    }\n",
       "\n",
       "    .dataframe thead th {\n",
       "        text-align: right;\n",
       "    }\n",
       "</style>\n",
       "<table border=\"1\" class=\"dataframe\">\n",
       "  <thead>\n",
       "    <tr style=\"text-align: right;\">\n",
       "      <th></th>\n",
       "      <th>0</th>\n",
       "      <th>1</th>\n",
       "    </tr>\n",
       "  </thead>\n",
       "  <tbody>\n",
       "    <tr>\n",
       "      <th>0</th>\n",
       "      <td>the</td>\n",
       "      <td>28695</td>\n",
       "    </tr>\n",
       "    <tr>\n",
       "      <th>1</th>\n",
       "      <td>to</td>\n",
       "      <td>27585</td>\n",
       "    </tr>\n",
       "    <tr>\n",
       "      <th>2</th>\n",
       "      <td>of</td>\n",
       "      <td>24749</td>\n",
       "    </tr>\n",
       "    <tr>\n",
       "      <th>3</th>\n",
       "      <td>and</td>\n",
       "      <td>24422</td>\n",
       "    </tr>\n",
       "    <tr>\n",
       "      <th>4</th>\n",
       "      <td>I</td>\n",
       "      <td>14758</td>\n",
       "    </tr>\n",
       "  </tbody>\n",
       "</table>\n",
       "</div>"
      ],
      "text/plain": [
       "     0      1\n",
       "0  the  28695\n",
       "1   to  27585\n",
       "2   of  24749\n",
       "3  and  24422\n",
       "4    I  14758"
      ]
     },
     "execution_count": 32,
     "metadata": {},
     "output_type": "execute_result"
    }
   ],
   "source": [
    "eng_uni.head()"
   ]
  },
  {
   "cell_type": "code",
   "execution_count": 30,
   "metadata": {},
   "outputs": [
    {
     "data": {
      "text/html": [
       "<div>\n",
       "<style scoped>\n",
       "    .dataframe tbody tr th:only-of-type {\n",
       "        vertical-align: middle;\n",
       "    }\n",
       "\n",
       "    .dataframe tbody tr th {\n",
       "        vertical-align: top;\n",
       "    }\n",
       "\n",
       "    .dataframe thead th {\n",
       "        text-align: right;\n",
       "    }\n",
       "</style>\n",
       "<table border=\"1\" class=\"dataframe\">\n",
       "  <thead>\n",
       "    <tr style=\"text-align: right;\">\n",
       "      <th></th>\n",
       "      <th>0</th>\n",
       "      <th>1</th>\n",
       "    </tr>\n",
       "  </thead>\n",
       "  <tbody>\n",
       "    <tr>\n",
       "      <th>0</th>\n",
       "      <td>of the</td>\n",
       "      <td>3405</td>\n",
       "    </tr>\n",
       "    <tr>\n",
       "      <th>1</th>\n",
       "      <td>to be</td>\n",
       "      <td>2931</td>\n",
       "    </tr>\n",
       "    <tr>\n",
       "      <th>2</th>\n",
       "      <td>in the</td>\n",
       "      <td>2637</td>\n",
       "    </tr>\n",
       "    <tr>\n",
       "      <th>3</th>\n",
       "      <td>I am</td>\n",
       "      <td>1938</td>\n",
       "    </tr>\n",
       "    <tr>\n",
       "      <th>4</th>\n",
       "      <td>of her</td>\n",
       "      <td>1702</td>\n",
       "    </tr>\n",
       "  </tbody>\n",
       "</table>\n",
       "</div>"
      ],
      "text/plain": [
       "        0     1\n",
       "0  of the  3405\n",
       "1   to be  2931\n",
       "2  in the  2637\n",
       "3    I am  1938\n",
       "4  of her  1702"
      ]
     },
     "execution_count": 30,
     "metadata": {},
     "output_type": "execute_result"
    }
   ],
   "source": [
    "eng_bi.head()"
   ]
  },
  {
   "cell_type": "markdown",
   "metadata": {},
   "source": [
    "German Books"
   ]
  },
  {
   "cell_type": "code",
   "execution_count": 9,
   "metadata": {},
   "outputs": [
    {
     "name": "stdout",
     "output_type": "stream",
     "text": [
      "Wall time: 1 ms\n"
     ]
    }
   ],
   "source": [
    "%%time\n",
    "\n",
    "german_book_links_file_name = 'german_book_links.pkl'\n",
    "try:\n",
    "    with open(german_book_links_file_name, 'rb') as infile:\n",
    "        german_book_links = pickle.load(infile)\n",
    "except:\n",
    "    german_link = ['http://www.gutenberg.org/ebooks/subject/18100', \n",
    "                   'http://www.gutenberg.org/ebooks/subject/18100?start_index=26',\n",
    "                   'http://www.gutenberg.org/ebooks/subject/18100?start_index=51']\n",
    "    \n",
    "\n",
    "    german_book_links = []\n",
    "    count = 0\n",
    "    for page_link in german_link:\n",
    "        response = requests.get(page_link)\n",
    "        soup = BeautifulSoup(response.content, 'html.parser')\n",
    "        book_links = soup.find_all('li', {'class': 'booklink'})\n",
    "        print(len(book_links))\n",
    "        for book_link in book_links:\n",
    "            real_book_link = 'http://www.gutenberg.org' + book_link.a['href']\n",
    "            response = requests.get(real_book_link)\n",
    "            soup = BeautifulSoup(response.content, 'html.parser')\n",
    "            utf_a = soup.find('a', type=lambda x: x and 'text/plain' in x)\n",
    "\n",
    "            utf_link = utf_a['href']\n",
    "            \n",
    "            german_book_links.append('http:' + utf_link)\n",
    "            count = count + 1\n",
    "            print(str(count) + ' book links added.')\n",
    "    \n",
    "    \n",
    "    with open(german_book_links_file_name, 'wb') as outfile:\n",
    "        pickle.dump(german_book_links, outfile)"
   ]
  },
  {
   "cell_type": "code",
   "execution_count": 10,
   "metadata": {
    "scrolled": true
   },
   "outputs": [
    {
     "data": {
      "text/plain": [
       "['http://www.gutenberg.org/ebooks/29376.txt.utf-8',\n",
       " 'http://www.gutenberg.org/ebooks/2403.txt.utf-8',\n",
       " 'http://www.gutenberg.org/files/53628/53628-0.txt']"
      ]
     },
     "execution_count": 10,
     "metadata": {},
     "output_type": "execute_result"
    }
   ],
   "source": [
    "german_book_links[:3]"
   ]
  },
  {
   "cell_type": "code",
   "execution_count": 33,
   "metadata": {},
   "outputs": [
    {
     "name": "stderr",
     "output_type": "stream",
     "text": [
      "100%|██████████████████████████████████████████| 60/60 [00:16<00:00,  2.84it/s]\n"
     ]
    }
   ],
   "source": [
    "ger_text = ''\n",
    "for book_link in tqdm(german_book_links):\n",
    "    response = requests.get(book_link)\n",
    "    ger_text = ger_text + response.text"
   ]
  },
  {
   "cell_type": "code",
   "execution_count": 34,
   "metadata": {},
   "outputs": [],
   "source": [
    "ger_res = get_uni_bi_grams(ger_text)"
   ]
  },
  {
   "cell_type": "code",
   "execution_count": 45,
   "metadata": {},
   "outputs": [],
   "source": [
    "ger_uni = pd.DataFrame(ger_res['listt']['uni'], columns=['word', 'freq'])\n",
    "ger_bi = pd.DataFrame(ger_res['listt']['bi'], columns=['pair', 'freq'])"
   ]
  },
  {
   "cell_type": "code",
   "execution_count": 46,
   "metadata": {},
   "outputs": [
    {
     "data": {
      "text/html": [
       "<div>\n",
       "<style scoped>\n",
       "    .dataframe tbody tr th:only-of-type {\n",
       "        vertical-align: middle;\n",
       "    }\n",
       "\n",
       "    .dataframe tbody tr th {\n",
       "        vertical-align: top;\n",
       "    }\n",
       "\n",
       "    .dataframe thead th {\n",
       "        text-align: right;\n",
       "    }\n",
       "</style>\n",
       "<table border=\"1\" class=\"dataframe\">\n",
       "  <thead>\n",
       "    <tr style=\"text-align: right;\">\n",
       "      <th></th>\n",
       "      <th>word</th>\n",
       "      <th>freq</th>\n",
       "    </tr>\n",
       "  </thead>\n",
       "  <tbody>\n",
       "    <tr>\n",
       "      <th>0</th>\n",
       "      <td>und</td>\n",
       "      <td>107374</td>\n",
       "    </tr>\n",
       "    <tr>\n",
       "      <th>1</th>\n",
       "      <td>die</td>\n",
       "      <td>77401</td>\n",
       "    </tr>\n",
       "    <tr>\n",
       "      <th>2</th>\n",
       "      <td>der</td>\n",
       "      <td>74911</td>\n",
       "    </tr>\n",
       "    <tr>\n",
       "      <th>3</th>\n",
       "      <td>in</td>\n",
       "      <td>48830</td>\n",
       "    </tr>\n",
       "    <tr>\n",
       "      <th>4</th>\n",
       "      <td>er</td>\n",
       "      <td>44699</td>\n",
       "    </tr>\n",
       "  </tbody>\n",
       "</table>\n",
       "</div>"
      ],
      "text/plain": [
       "  word    freq\n",
       "0  und  107374\n",
       "1  die   77401\n",
       "2  der   74911\n",
       "3   in   48830\n",
       "4   er   44699"
      ]
     },
     "execution_count": 46,
     "metadata": {},
     "output_type": "execute_result"
    }
   ],
   "source": [
    "ger_uni.head()"
   ]
  },
  {
   "cell_type": "code",
   "execution_count": 47,
   "metadata": {},
   "outputs": [
    {
     "data": {
      "text/html": [
       "<div>\n",
       "<style scoped>\n",
       "    .dataframe tbody tr th:only-of-type {\n",
       "        vertical-align: middle;\n",
       "    }\n",
       "\n",
       "    .dataframe tbody tr th {\n",
       "        vertical-align: top;\n",
       "    }\n",
       "\n",
       "    .dataframe thead th {\n",
       "        text-align: right;\n",
       "    }\n",
       "</style>\n",
       "<table border=\"1\" class=\"dataframe\">\n",
       "  <thead>\n",
       "    <tr style=\"text-align: right;\">\n",
       "      <th></th>\n",
       "      <th>pair</th>\n",
       "      <th>freq</th>\n",
       "    </tr>\n",
       "  </thead>\n",
       "  <tbody>\n",
       "    <tr>\n",
       "      <th>0</th>\n",
       "      <td>f r</td>\n",
       "      <td>8468</td>\n",
       "    </tr>\n",
       "    <tr>\n",
       "      <th>1</th>\n",
       "      <td>in der</td>\n",
       "      <td>7088</td>\n",
       "    </tr>\n",
       "    <tr>\n",
       "      <th>2</th>\n",
       "      <td>Project Gutenberg</td>\n",
       "      <td>4937</td>\n",
       "    </tr>\n",
       "    <tr>\n",
       "      <th>3</th>\n",
       "      <td>und die</td>\n",
       "      <td>4212</td>\n",
       "    </tr>\n",
       "    <tr>\n",
       "      <th>4</th>\n",
       "      <td>in die</td>\n",
       "      <td>4197</td>\n",
       "    </tr>\n",
       "  </tbody>\n",
       "</table>\n",
       "</div>"
      ],
      "text/plain": [
       "                pair  freq\n",
       "0                f r  8468\n",
       "1             in der  7088\n",
       "2  Project Gutenberg  4937\n",
       "3            und die  4212\n",
       "4             in die  4197"
      ]
     },
     "execution_count": 47,
     "metadata": {},
     "output_type": "execute_result"
    }
   ],
   "source": [
    "ger_bi.head()"
   ]
  },
  {
   "cell_type": "markdown",
   "metadata": {},
   "source": [
    "Translation between different languages"
   ]
  },
  {
   "cell_type": "code",
   "execution_count": 38,
   "metadata": {},
   "outputs": [],
   "source": [
    "# initiate a translator\n",
    "translator = Translator()\n"
   ]
  },
  {
   "cell_type": "code",
   "execution_count": 39,
   "metadata": {},
   "outputs": [],
   "source": [
    "x1 = translator.translate('안녕하세요.')\n",
    "x2 = translator.translate('안녕하세요.', dest='ja')\n",
    "x3 = translator.translate('veritas lux mea', src='la')"
   ]
  },
  {
   "cell_type": "code",
   "execution_count": 50,
   "metadata": {},
   "outputs": [],
   "source": [
    "ger_50 = translator.translate(list(ger_uni['word'])[:50], dest='en')"
   ]
  },
  {
   "cell_type": "code",
   "execution_count": 52,
   "metadata": {},
   "outputs": [
    {
     "data": {
      "text/plain": [
       "['and',\n",
       " 'the',\n",
       " 'the',\n",
       " 'in',\n",
       " 'is',\n",
       " 'to',\n",
       " 'the',\n",
       " 'the',\n",
       " 'you',\n",
       " 'Not',\n",
       " 'yourself',\n",
       " 'With',\n",
       " 'I',\n",
       " 'the',\n",
       " 'gives',\n",
       " 'on',\n",
       " 'from',\n",
       " 'on',\n",
       " 'is',\n",
       " 'so',\n",
       " 'war',\n",
       " 'you',\n",
       " 'an',\n",
       " 'is',\n",
       " 'but',\n",
       " 'as',\n",
       " 'also',\n",
       " 'when',\n",
       " 'a',\n",
       " 'f',\n",
       " 'still',\n",
       " 'r',\n",
       " 'of the',\n",
       " 'him',\n",
       " 'would have',\n",
       " 'just',\n",
       " 'ber',\n",
       " 'one',\n",
       " 'h',\n",
       " 'im',\n",
       " 'him',\n",
       " 'w',\n",
       " 'the',\n",
       " 'me',\n",
       " 'was',\n",
       " 'out',\n",
       " 'one',\n",
       " 'their',\n",
       " 'his',\n",
       " 'to']"
      ]
     },
     "execution_count": 52,
     "metadata": {},
     "output_type": "execute_result"
    }
   ],
   "source": [
    "[i.text for i in ger_50]"
   ]
  },
  {
   "cell_type": "code",
   "execution_count": null,
   "metadata": {},
   "outputs": [],
   "source": []
  }
 ],
 "metadata": {
  "kernelspec": {
   "display_name": "Python 3",
   "language": "python",
   "name": "python3"
  },
  "language_info": {
   "codemirror_mode": {
    "name": "ipython",
    "version": 3
   },
   "file_extension": ".py",
   "mimetype": "text/x-python",
   "name": "python",
   "nbconvert_exporter": "python",
   "pygments_lexer": "ipython3",
   "version": "3.6.2rc1"
  }
 },
 "nbformat": 4,
 "nbformat_minor": 2
}
