{
 "cells": [
  {
   "cell_type": "code",
   "execution_count": 1,
   "metadata": {},
   "outputs": [],
   "source": [
    "import wordsegment\n",
    "from bs4 import BeautifulSoup\n",
    "import requests\n",
    "import pickle\n",
    "from tqdm import tqdm, tnrange, tqdm_notebook\n",
    "import pandas as pd\n",
    "import os\n",
    "import matplotlib.pyplot as plt\n",
    "import seaborn as sns\n",
    "\n",
    "from googletrans import Translator\n",
    "from google.cloud import translate"
   ]
  },
  {
   "cell_type": "code",
   "execution_count": 2,
   "metadata": {},
   "outputs": [],
   "source": [
    "import re\n",
    "from collections import Counter\n",
    "\n",
    "wordsegment.load()\n",
    "\n",
    "def tokenize(text):\n",
    "    pattern = re.compile('[a-zA-Z]+')\n",
    "    return (match.group(0) for match in pattern.finditer(text))\n",
    "\n",
    "def pairs(iterable):\n",
    "    iterator = iter(iterable)\n",
    "    values = [next(iterator)]\n",
    "    for value in iterator:\n",
    "        values.append(value)\n",
    "        yield ' '.join(values)\n",
    "        del values[0]"
   ]
  },
  {
   "cell_type": "code",
   "execution_count": 3,
   "metadata": {},
   "outputs": [],
   "source": [
    "def get_uni_bi_grams(text):\n",
    "    wordsegment.UNIGRAMS.clear()\n",
    "    wordsegment.UNIGRAMS.update(Counter(tokenize(text)))\n",
    "\n",
    "    wordsegment.BIGRAMS.clear()\n",
    "    wordsegment.BIGRAMS.update(Counter(pairs(tokenize(text))))\n",
    "    \n",
    "    unigrams = wordsegment.UNIGRAMS\n",
    "    uni = list(wordsegment.UNIGRAMS.items())\n",
    "    uni.sort(key=lambda x: x[1], reverse=True)\n",
    "\n",
    "    bigrams = wordsegment.BIGRAMS\n",
    "    big = list(wordsegment.BIGRAMS.items())\n",
    "    big.sort(key=lambda x: x[1], reverse=True)\n",
    "    \n",
    "    return {'dictt': {'uni': unigrams, 'bi': bigrams},\n",
    "            'listt': {'uni': uni, 'bi': big}}"
   ]
  },
  {
   "cell_type": "markdown",
   "metadata": {},
   "source": [
    "## 1. English Books"
   ]
  },
  {
   "cell_type": "code",
   "execution_count": 4,
   "metadata": {},
   "outputs": [
    {
     "name": "stdout",
     "output_type": "stream",
     "text": [
      "Wall time: 35.9 ms\n"
     ]
    }
   ],
   "source": [
    "%%time\n",
    "\n",
    "english_book_links_file_name = 'english_book_links.pkl'\n",
    "\n",
    "try:\n",
    "    with open(os.path.join(os.curdir, 'Data', english_book_links_file_name), 'rb') as infile:\n",
    "        english_book_links = pickle.load(infile)\n",
    "except:\n",
    "    english_link = ['http://www.gutenberg.org/ebooks/subject/7072', \n",
    "                   'http://www.gutenberg.org/ebooks/subject/7072?start_index=26',\n",
    "                   'http://www.gutenberg.org/ebooks/subject/3203',\n",
    "                   'http://www.gutenberg.org/ebooks/subject/3203?start_index=26']\n",
    "    \n",
    "\n",
    "    english_book_links = []\n",
    "    count = 0\n",
    "    for i1 in tnrange(len(english_link), desc='1st loop'):\n",
    "        page_link = english_link[i1]\n",
    "        response = requests.get(page_link)\n",
    "        soup = BeautifulSoup(response.content, 'html.parser')\n",
    "        book_links = soup.find_all('li', {'class': 'booklink'})\n",
    "        #print(len(book_links))\n",
    "        for i2 in tqdm_notebook(range(len(book_links)), desc='detail', leave=False):\n",
    "            book_link = book_links[i2]\n",
    "            real_book_link = 'http://www.gutenberg.org' + book_link.a['href']\n",
    "            response = requests.get(real_book_link)\n",
    "            soup = BeautifulSoup(response.content, 'html.parser')\n",
    "            utf_a = soup.find('a', type=lambda x: x and 'text/plain' in x)\n",
    "\n",
    "            utf_link = utf_a['href']\n",
    "            \n",
    "            english_book_links.append('http:' + utf_link)\n",
    "            count = count + 1\n",
    "            #print(str(count) + ' book links added.')\n",
    "    \n",
    "    \n",
    "    with open(os.path.join(os.curdir, 'Data', english_book_links_file_name), 'wb') as outfile:\n",
    "        pickle.dump(english_book_links, outfile)"
   ]
  },
  {
   "cell_type": "code",
   "execution_count": 5,
   "metadata": {},
   "outputs": [
    {
     "data": {
      "text/plain": [
       "['http://www.gutenberg.org/ebooks/53416.txt.utf-8',\n",
       " 'http://www.gutenberg.org/ebooks/34089.txt.utf-8']"
      ]
     },
     "execution_count": 5,
     "metadata": {},
     "output_type": "execute_result"
    }
   ],
   "source": [
    "english_book_links[:2]"
   ]
  },
  {
   "cell_type": "code",
   "execution_count": 6,
   "metadata": {},
   "outputs": [
    {
     "name": "stdout",
     "output_type": "stream",
     "text": [
      "Wall time: 765 ms\n"
     ]
    }
   ],
   "source": [
    "%%time\n",
    "\n",
    "english_text_file_name = 'english_text.pkl'\n",
    "\n",
    "try:\n",
    "    with open(os.path.join(os.curdir, 'Data', english_text_file_name), 'rb') as infile:\n",
    "        english_text = pickle.load(infile)\n",
    "\n",
    "except:\n",
    "    english_text = ''\n",
    "    for book_link in tqdm(english_book_links):\n",
    "        response = requests.get(book_link)\n",
    "        english_text = english_text + response.text\n",
    "    \n",
    "    with open(os.path.join(os.curdir, 'Data', english_text_file_name), 'wb') as outfile:\n",
    "        pickle.dump(english_text, outfile)"
   ]
  },
  {
   "cell_type": "code",
   "execution_count": 7,
   "metadata": {},
   "outputs": [
    {
     "name": "stdout",
     "output_type": "stream",
     "text": [
      "Wall time: 18.3 s\n"
     ]
    }
   ],
   "source": [
    "%%time\n",
    "\n",
    "eng_res = get_uni_bi_grams(english_text)"
   ]
  },
  {
   "cell_type": "code",
   "execution_count": 8,
   "metadata": {},
   "outputs": [],
   "source": [
    "eng_uni = pd.DataFrame(eng_res['listt']['uni'], columns=['word', 'freq'])\n",
    "eng_bi = pd.DataFrame(eng_res['listt']['bi'], columns=['pair', 'freq'])"
   ]
  },
  {
   "cell_type": "markdown",
   "metadata": {},
   "source": [
    "## 2. German Books"
   ]
  },
  {
   "cell_type": "code",
   "execution_count": 9,
   "metadata": {},
   "outputs": [
    {
     "name": "stdout",
     "output_type": "stream",
     "text": [
      "Wall time: 31.2 ms\n"
     ]
    }
   ],
   "source": [
    "%%time\n",
    "\n",
    "german_book_links_file_name = 'german_book_links.pkl'\n",
    "try:\n",
    "    with open(os.path.join(os.curdir, 'Data', german_book_links_file_name), 'rb') as infile:\n",
    "        german_book_links = pickle.load(infile)\n",
    "except:\n",
    "    german_link = ['http://www.gutenberg.org/ebooks/subject/18100', \n",
    "                   'http://www.gutenberg.org/ebooks/subject/18100?start_index=26',\n",
    "                   'http://www.gutenberg.org/ebooks/subject/18100?start_index=51']\n",
    "    \n",
    "\n",
    "    german_book_links = []\n",
    "    count = 0\n",
    "    for i1 in tnrange(len(german_link), desc='1st loop'):\n",
    "        page_link = german_link[i1]\n",
    "        response = requests.get(page_link)\n",
    "        soup = BeautifulSoup(response.content, 'html.parser')\n",
    "        book_links = soup.find_all('li', {'class': 'booklink'})\n",
    "        #print(len(book_links))\n",
    "        for i2 in tqdm_notebook(range(len(book_links)), desc='detail', leave=False):\n",
    "            book_link = book_links[i2]\n",
    "            real_book_link = 'http://www.gutenberg.org' + book_link.a['href']\n",
    "            response = requests.get(real_book_link)\n",
    "            soup = BeautifulSoup(response.content, 'html.parser')\n",
    "            utf_a = soup.find('a', type=lambda x: x and 'text/plain' in x)\n",
    "\n",
    "            utf_link = utf_a['href']\n",
    "            \n",
    "            german_book_links.append('http:' + utf_link)\n",
    "            count = count + 1\n",
    "            #print(str(count) + ' book links added.')\n",
    "    \n",
    "    \n",
    "    with open(os.path.join(os.curdir, 'Data', german_book_links_file_name), 'wb') as outfile:\n",
    "        pickle.dump(german_book_links, outfile)"
   ]
  },
  {
   "cell_type": "code",
   "execution_count": 10,
   "metadata": {
    "scrolled": true
   },
   "outputs": [
    {
     "data": {
      "text/plain": [
       "['http://www.gutenberg.org/ebooks/29376.txt.utf-8',\n",
       " 'http://www.gutenberg.org/ebooks/2403.txt.utf-8',\n",
       " 'http://www.gutenberg.org/files/53628/53628-0.txt']"
      ]
     },
     "execution_count": 10,
     "metadata": {},
     "output_type": "execute_result"
    }
   ],
   "source": [
    "german_book_links[:3]"
   ]
  },
  {
   "cell_type": "code",
   "execution_count": 11,
   "metadata": {},
   "outputs": [
    {
     "name": "stdout",
     "output_type": "stream",
     "text": [
      "Wall time: 483 ms\n"
     ]
    }
   ],
   "source": [
    "%%time\n",
    "\n",
    "german_text_file_name = 'german_text.pkl'\n",
    "\n",
    "try:\n",
    "    with open(os.path.join(os.curdir, 'Data', german_text_file_name), 'rb') as infile:\n",
    "        german_text = pickle.load(infile)\n",
    "\n",
    "except:\n",
    "    german_text = ''\n",
    "    for book_link in tqdm(german_book_links):\n",
    "        response = requests.get(book_link)\n",
    "        german_text = german_text + response.text\n",
    "    \n",
    "    with open(os.path.join(os.curdir, 'Data', german_text_file_name), 'wb') as outfile:\n",
    "        pickle.dump(german_text, outfile)\n"
   ]
  },
  {
   "cell_type": "code",
   "execution_count": 12,
   "metadata": {},
   "outputs": [
    {
     "name": "stdout",
     "output_type": "stream",
     "text": [
      "Wall time: 8.5 s\n"
     ]
    }
   ],
   "source": [
    "%%time\n",
    "\n",
    "ger_res = get_uni_bi_grams(german_text)"
   ]
  },
  {
   "cell_type": "code",
   "execution_count": 13,
   "metadata": {},
   "outputs": [],
   "source": [
    "ger_uni = pd.DataFrame(ger_res['listt']['uni'], columns=['word', 'freq'])\n",
    "ger_bi = pd.DataFrame(ger_res['listt']['bi'], columns=['pair', 'freq'])"
   ]
  },
  {
   "cell_type": "markdown",
   "metadata": {},
   "source": [
    "## 3. Change data frame to lower case"
   ]
  },
  {
   "cell_type": "code",
   "execution_count": 14,
   "metadata": {},
   "outputs": [],
   "source": [
    "eng_uni['word'] = eng_uni['word'].str.lower()\n",
    "eng_bi['pair'] = eng_bi['pair'].str.lower()\n",
    "ger_uni['word'] = ger_uni['word'].str.lower()\n",
    "ger_bi['pair'] = ger_bi['pair'].str.lower()"
   ]
  },
  {
   "cell_type": "markdown",
   "metadata": {},
   "source": [
    "### some of the words are in both lower and upper case\n",
    "\n",
    "For example, 'And' and 'and' should be the same, however in the dataframe it is the separated"
   ]
  },
  {
   "cell_type": "code",
   "execution_count": 15,
   "metadata": {},
   "outputs": [],
   "source": [
    "eng_uni_temp = pd.DataFrame(eng_uni.groupby(['word'])['freq'].sum())\n",
    "eng_uni_temp.reset_index(inplace=True)\n",
    "eng_bi_temp = pd.DataFrame(eng_bi.groupby(['pair'])['freq'].sum())\n",
    "eng_bi_temp.reset_index(inplace=True)\n",
    "\n",
    "ger_uni_temp = pd.DataFrame(ger_uni.groupby(['word'])['freq'].sum())\n",
    "ger_uni_temp.reset_index(inplace=True)\n",
    "ger_bi_temp = pd.DataFrame(ger_bi.groupby(['pair'])['freq'].sum())\n",
    "ger_bi_temp.reset_index(inplace=True)"
   ]
  },
  {
   "cell_type": "code",
   "execution_count": 16,
   "metadata": {},
   "outputs": [],
   "source": [
    "eng_uni_temp.sort_values(by=['freq'], inplace=True, ascending=False)\n",
    "eng_bi_temp.sort_values(by=['freq'], inplace=True, ascending=False)\n",
    "ger_uni_temp.sort_values(by=['freq'], inplace=True, ascending=False)\n",
    "ger_bi_temp.sort_values(by=['freq'], inplace=True, ascending=False)"
   ]
  },
  {
   "cell_type": "code",
   "execution_count": 17,
   "metadata": {},
   "outputs": [],
   "source": [
    "total_freq_eng_uni = eng_uni_temp['freq'].sum()\n",
    "total_freq_eng_bi = eng_bi_temp['freq'].sum()\n",
    "total_freq_ger_uni = ger_uni_temp['freq'].sum()\n",
    "total_freq_ger_bi = ger_bi_temp['freq'].sum()"
   ]
  },
  {
   "cell_type": "markdown",
   "metadata": {},
   "source": [
    "## 4. Translation between different languages"
   ]
  },
  {
   "cell_type": "code",
   "execution_count": 87,
   "metadata": {},
   "outputs": [
    {
     "data": {
      "text/plain": [
       "True"
      ]
     },
     "execution_count": 87,
     "metadata": {},
     "output_type": "execute_result"
    }
   ],
   "source": [
    "import os\n",
    "save_joined_file = 'result.pkl'\n",
    "save_joined_file_path = os.path.join(os.curdir, 'Data', save_joined_file)\n",
    "exists = os.path.isfile(save_joined_file_path)\n",
    "exists"
   ]
  },
  {
   "cell_type": "code",
   "execution_count": 88,
   "metadata": {},
   "outputs": [],
   "source": [
    "if exists:\n",
    "    with open(save_joined_file_path, 'rb') as infile:\n",
    "        joined_2_df_sorted, eng_df, ger_df, ger_df_grouped, ger_df_ori, ger_df_ori_grouped = pickle.load(infile)"
   ]
  },
  {
   "cell_type": "code",
   "execution_count": 52,
   "metadata": {},
   "outputs": [],
   "source": [
    "if not exists:\n",
    "    # initiate a translator client\n",
    "    translate_client = translate.Client()"
   ]
  },
  {
   "cell_type": "code",
   "execution_count": 53,
   "metadata": {},
   "outputs": [],
   "source": [
    "if not exists:\n",
    "    count_to_ana = 1000\n",
    "    lims = 100"
   ]
  },
  {
   "cell_type": "code",
   "execution_count": 54,
   "metadata": {},
   "outputs": [],
   "source": [
    "if not exists:\n",
    "    ger_list = list(ger_uni_temp['word'])[:count_to_ana]\n",
    "    print(ger_list[:100])"
   ]
  },
  {
   "cell_type": "code",
   "execution_count": 55,
   "metadata": {},
   "outputs": [],
   "source": [
    "if not exists:\n",
    "    target = 'en'\n",
    "    source = 'de'\n",
    "\n",
    "    chunks = [ger_list[(x):(x + lims)] for x in range(0, len(ger_list), lims)]\n",
    "\n",
    "    ger_translated_text = []\n",
    "    for chunk in tqdm(chunks):\n",
    "        translation = translate_client.translate(\n",
    "            chunk,\n",
    "            source_language=source,\n",
    "            target_language=target)\n",
    "        ger_translated_text = ger_translated_text + [trans['translatedText'].lower() for trans in translation]"
   ]
  },
  {
   "cell_type": "code",
   "execution_count": 56,
   "metadata": {},
   "outputs": [],
   "source": [
    "if not exists:\n",
    "    print(ger_translated_text[:100])"
   ]
  },
  {
   "cell_type": "code",
   "execution_count": 57,
   "metadata": {},
   "outputs": [],
   "source": [
    "if not exists:\n",
    "    ger_df = pd.DataFrame(ger_translated_text, columns=['word'])\n",
    "    ger_df['freq_ger_to_eng'] = pd.Series(list(ger_uni_temp['freq'])[:count_to_ana])\n",
    "    ger_df.shape"
   ]
  },
  {
   "cell_type": "code",
   "execution_count": 58,
   "metadata": {},
   "outputs": [],
   "source": [
    "if not exists:\n",
    "    ger_df_grouped = ger_df.groupby(['word']).sum()\n",
    "    ger_df_grouped.reset_index(inplace=True)\n",
    "    ger_df_grouped.shape"
   ]
  },
  {
   "cell_type": "code",
   "execution_count": 59,
   "metadata": {},
   "outputs": [],
   "source": [
    "if not exists:\n",
    "    ger_df_ori = pd.DataFrame(ger_translated_text, columns=['word'])\n",
    "    ger_df_ori['original german'] = pd.Series(list(ger_uni_temp['word'])[:count_to_ana])\n",
    "    ger_df_ori_grouped = pd.DataFrame(ger_df_ori.groupby(['word'])['original german'].apply(lambda x: ', '.join(x)))\n",
    "    ger_df_ori_grouped.reset_index(inplace=True)\n",
    "    ger_df_ori_grouped.shape"
   ]
  },
  {
   "cell_type": "code",
   "execution_count": 60,
   "metadata": {},
   "outputs": [],
   "source": [
    "if not exists:\n",
    "    eng_df = eng_uni_temp.loc[0:count_to_ana, ['word', 'freq']]"
   ]
  },
  {
   "cell_type": "code",
   "execution_count": 61,
   "metadata": {},
   "outputs": [],
   "source": [
    "if not exists:\n",
    "    joined_1_df = ger_df_grouped.merge(eng_df, left_on='word', right_on='word', suffixes=('_ger', '_eng'))\n",
    "    joined_1_df.head()"
   ]
  },
  {
   "cell_type": "code",
   "execution_count": 62,
   "metadata": {},
   "outputs": [],
   "source": [
    "if not exists:\n",
    "    joined_2_df = joined_1_df.merge(ger_df_ori_grouped, left_on='word', right_on='word', suffixes=('_ger', '_eng'))\n",
    "    joined_2_df.head()"
   ]
  },
  {
   "cell_type": "code",
   "execution_count": 63,
   "metadata": {},
   "outputs": [],
   "source": [
    "if not exists:\n",
    "    joined_2_df.sort_values(by=['freq'], inplace=True, ascending=False)\n",
    "    joined_2_df['freq_normalized'] = joined_2_df['freq'] / total_freq_eng_uni\n",
    "    joined_2_df['freq_ger_normalized'] = joined_2_df['freq_ger_to_eng'] / total_freq_ger_uni\n",
    "    joined_2_df['ratio'] = joined_2_df['freq_ger_normalized'] / joined_2_df['freq_normalized']\n",
    "    joined_2_df_sorted = joined_2_df.reset_index()"
   ]
  },
  {
   "cell_type": "code",
   "execution_count": 86,
   "metadata": {},
   "outputs": [],
   "source": [
    "if not exists:\n",
    "    with open(save_joined_file_path, 'wb') as outfile:\n",
    "        pickle.dump([joined_2_df_sorted, eng_df, ger_df, ger_df_grouped, ger_df_ori, ger_df_ori_grouped], outfile)"
   ]
  },
  {
   "cell_type": "markdown",
   "metadata": {},
   "source": [
    "## 5. Analyze the top 20 words"
   ]
  },
  {
   "cell_type": "markdown",
   "metadata": {},
   "source": [
    "1. `joined_2_df_sorted`:\n",
    "    the file that combined the german and english together\n",
    "\n",
    "2. `eng_df`:\n",
    "    the file that only has english words and frequency in it\n",
    "\n",
    "3. `ger_df_ori`:\n",
    "    the file that only has german words and translation in it\n",
    "    \n",
    "4. `ger_df`;\n",
    "    the file that only has translation of german words and frequency in it"
   ]
  },
  {
   "cell_type": "code",
   "execution_count": 82,
   "metadata": {},
   "outputs": [
    {
     "data": {
      "text/html": [
       "<div>\n",
       "<style scoped>\n",
       "    .dataframe tbody tr th:only-of-type {\n",
       "        vertical-align: middle;\n",
       "    }\n",
       "\n",
       "    .dataframe tbody tr th {\n",
       "        vertical-align: top;\n",
       "    }\n",
       "\n",
       "    .dataframe thead th {\n",
       "        text-align: right;\n",
       "    }\n",
       "</style>\n",
       "<table border=\"1\" class=\"dataframe\">\n",
       "  <thead>\n",
       "    <tr style=\"text-align: right;\">\n",
       "      <th></th>\n",
       "      <th>index</th>\n",
       "      <th>word</th>\n",
       "      <th>freq_ger_to_eng</th>\n",
       "      <th>freq</th>\n",
       "      <th>original german</th>\n",
       "      <th>freq_normalized</th>\n",
       "      <th>freq_ger_normalized</th>\n",
       "      <th>ratio</th>\n",
       "    </tr>\n",
       "  </thead>\n",
       "  <tbody>\n",
       "    <tr>\n",
       "      <th>0</th>\n",
       "      <td>0</td>\n",
       "      <td>a</td>\n",
       "      <td>20314</td>\n",
       "      <td>188543</td>\n",
       "      <td>eine, a</td>\n",
       "      <td>0.022538</td>\n",
       "      <td>0.005430</td>\n",
       "      <td>0.240921</td>\n",
       "    </tr>\n",
       "    <tr>\n",
       "      <th>1</th>\n",
       "      <td>237</td>\n",
       "      <td>i</td>\n",
       "      <td>37288</td>\n",
       "      <td>145375</td>\n",
       "      <td>ich</td>\n",
       "      <td>0.017378</td>\n",
       "      <td>0.009967</td>\n",
       "      <td>0.573547</td>\n",
       "    </tr>\n",
       "  </tbody>\n",
       "</table>\n",
       "</div>"
      ],
      "text/plain": [
       "   index word  freq_ger_to_eng    freq original german  freq_normalized  \\\n",
       "0      0    a            20314  188543         eine, a         0.022538   \n",
       "1    237    i            37288  145375             ich         0.017378   \n",
       "\n",
       "   freq_ger_normalized     ratio  \n",
       "0             0.005430  0.240921  \n",
       "1             0.009967  0.573547  "
      ]
     },
     "execution_count": 82,
     "metadata": {},
     "output_type": "execute_result"
    }
   ],
   "source": [
    "joined_2_df_sorted.head(2)"
   ]
  },
  {
   "cell_type": "code",
   "execution_count": 101,
   "metadata": {},
   "outputs": [
    {
     "data": {
      "text/html": [
       "<div>\n",
       "<style scoped>\n",
       "    .dataframe tbody tr th:only-of-type {\n",
       "        vertical-align: middle;\n",
       "    }\n",
       "\n",
       "    .dataframe tbody tr th {\n",
       "        vertical-align: top;\n",
       "    }\n",
       "\n",
       "    .dataframe thead th {\n",
       "        text-align: right;\n",
       "    }\n",
       "</style>\n",
       "<table border=\"1\" class=\"dataframe\">\n",
       "  <thead>\n",
       "    <tr style=\"text-align: right;\">\n",
       "      <th></th>\n",
       "      <th>index</th>\n",
       "      <th>word</th>\n",
       "      <th>freq</th>\n",
       "    </tr>\n",
       "  </thead>\n",
       "  <tbody>\n",
       "    <tr>\n",
       "      <th>0</th>\n",
       "      <td>0</td>\n",
       "      <td>a</td>\n",
       "      <td>188543</td>\n",
       "    </tr>\n",
       "    <tr>\n",
       "      <th>1</th>\n",
       "      <td>27319</td>\n",
       "      <td>i</td>\n",
       "      <td>145375</td>\n",
       "    </tr>\n",
       "    <tr>\n",
       "      <th>2</th>\n",
       "      <td>28007</td>\n",
       "      <td>in</td>\n",
       "      <td>130395</td>\n",
       "    </tr>\n",
       "  </tbody>\n",
       "</table>\n",
       "</div>"
      ],
      "text/plain": [
       "   index word    freq\n",
       "0      0    a  188543\n",
       "1  27319    i  145375\n",
       "2  28007   in  130395"
      ]
     },
     "execution_count": 101,
     "metadata": {},
     "output_type": "execute_result"
    }
   ],
   "source": [
    "eng_df.reset_index(inplace=True)\n",
    "eng_df.head(3)"
   ]
  },
  {
   "cell_type": "code",
   "execution_count": 92,
   "metadata": {},
   "outputs": [
    {
     "data": {
      "text/html": [
       "<div>\n",
       "<style scoped>\n",
       "    .dataframe tbody tr th:only-of-type {\n",
       "        vertical-align: middle;\n",
       "    }\n",
       "\n",
       "    .dataframe tbody tr th {\n",
       "        vertical-align: top;\n",
       "    }\n",
       "\n",
       "    .dataframe thead th {\n",
       "        text-align: right;\n",
       "    }\n",
       "</style>\n",
       "<table border=\"1\" class=\"dataframe\">\n",
       "  <thead>\n",
       "    <tr style=\"text-align: right;\">\n",
       "      <th></th>\n",
       "      <th>word</th>\n",
       "      <th>freq_ger_to_eng</th>\n",
       "    </tr>\n",
       "  </thead>\n",
       "  <tbody>\n",
       "    <tr>\n",
       "      <th>0</th>\n",
       "      <td>and</td>\n",
       "      <td>115535</td>\n",
       "    </tr>\n",
       "    <tr>\n",
       "      <th>1</th>\n",
       "      <td>the</td>\n",
       "      <td>84787</td>\n",
       "    </tr>\n",
       "    <tr>\n",
       "      <th>2</th>\n",
       "      <td>the</td>\n",
       "      <td>82195</td>\n",
       "    </tr>\n",
       "  </tbody>\n",
       "</table>\n",
       "</div>"
      ],
      "text/plain": [
       "  word  freq_ger_to_eng\n",
       "0  and           115535\n",
       "1  the            84787\n",
       "2  the            82195"
      ]
     },
     "execution_count": 92,
     "metadata": {},
     "output_type": "execute_result"
    }
   ],
   "source": [
    "ger_df.head(3)"
   ]
  },
  {
   "cell_type": "code",
   "execution_count": 94,
   "metadata": {},
   "outputs": [
    {
     "data": {
      "text/html": [
       "<div>\n",
       "<style scoped>\n",
       "    .dataframe tbody tr th:only-of-type {\n",
       "        vertical-align: middle;\n",
       "    }\n",
       "\n",
       "    .dataframe tbody tr th {\n",
       "        vertical-align: top;\n",
       "    }\n",
       "\n",
       "    .dataframe thead th {\n",
       "        text-align: right;\n",
       "    }\n",
       "</style>\n",
       "<table border=\"1\" class=\"dataframe\">\n",
       "  <thead>\n",
       "    <tr style=\"text-align: right;\">\n",
       "      <th></th>\n",
       "      <th>word</th>\n",
       "      <th>original german</th>\n",
       "      <th>freq</th>\n",
       "    </tr>\n",
       "  </thead>\n",
       "  <tbody>\n",
       "    <tr>\n",
       "      <th>0</th>\n",
       "      <td>and</td>\n",
       "      <td>und</td>\n",
       "      <td>115535</td>\n",
       "    </tr>\n",
       "    <tr>\n",
       "      <th>1</th>\n",
       "      <td>the</td>\n",
       "      <td>die</td>\n",
       "      <td>84787</td>\n",
       "    </tr>\n",
       "    <tr>\n",
       "      <th>2</th>\n",
       "      <td>the</td>\n",
       "      <td>der</td>\n",
       "      <td>82195</td>\n",
       "    </tr>\n",
       "    <tr>\n",
       "      <th>3</th>\n",
       "      <td>you</td>\n",
       "      <td>sie</td>\n",
       "      <td>55485</td>\n",
       "    </tr>\n",
       "    <tr>\n",
       "      <th>4</th>\n",
       "      <td>he</td>\n",
       "      <td>er</td>\n",
       "      <td>52429</td>\n",
       "    </tr>\n",
       "    <tr>\n",
       "      <th>5</th>\n",
       "      <td>in</td>\n",
       "      <td>in</td>\n",
       "      <td>51038</td>\n",
       "    </tr>\n",
       "    <tr>\n",
       "      <th>6</th>\n",
       "      <td>to</td>\n",
       "      <td>zu</td>\n",
       "      <td>44648</td>\n",
       "    </tr>\n",
       "    <tr>\n",
       "      <th>7</th>\n",
       "      <td>the</td>\n",
       "      <td>das</td>\n",
       "      <td>43068</td>\n",
       "    </tr>\n",
       "    <tr>\n",
       "      <th>8</th>\n",
       "      <td>the</td>\n",
       "      <td>den</td>\n",
       "      <td>39865</td>\n",
       "    </tr>\n",
       "    <tr>\n",
       "      <th>9</th>\n",
       "      <td>i</td>\n",
       "      <td>ich</td>\n",
       "      <td>37288</td>\n",
       "    </tr>\n",
       "  </tbody>\n",
       "</table>\n",
       "</div>"
      ],
      "text/plain": [
       "  word original german    freq\n",
       "0  and             und  115535\n",
       "1  the             die   84787\n",
       "2  the             der   82195\n",
       "3  you             sie   55485\n",
       "4   he              er   52429\n",
       "5   in              in   51038\n",
       "6   to              zu   44648\n",
       "7  the             das   43068\n",
       "8  the             den   39865\n",
       "9    i             ich   37288"
      ]
     },
     "execution_count": 94,
     "metadata": {},
     "output_type": "execute_result"
    }
   ],
   "source": [
    "ger_df_detail = ger_df_ori.copy()\n",
    "ger_df_detail['freq'] = ger_df['freq_ger_to_eng']\n",
    "ger_df_detail.head(10)"
   ]
  },
  {
   "cell_type": "code",
   "execution_count": 112,
   "metadata": {},
   "outputs": [
    {
     "data": {
      "image/png": "[encoded data removed]",
      "text/plain": [
       "<Figure size 1080x576 with 2 Axes>"
      ]
     },
     "metadata": {},
     "output_type": "display_data"
    }
   ],
   "source": [
    "sns.set(style=\"whitegrid\")\n",
    "f, axes = plt.subplots(1, 2, figsize=(15, 8))\n",
    "title_font_size = 28\n",
    "label_font_size = 20\n",
    "tick_font_size = 16\n",
    "\n",
    "sns.barplot(y='word', x='freq', data=eng_df.loc[0:20, ['word', 'freq']], ax=axes[0])\n",
    "axes[0].set_title('Engish', fontsize=title_font_size)\n",
    "axes[0].set_ylabel('', fontsize=label_font_size)\n",
    "axes[0].set_xlabel('', fontsize=label_font_size)\n",
    "axes[0].tick_params(labelsize=tick_font_size)\n",
    "\n",
    "sns.barplot(y='original german', x='freq', data=ger_df_detail.loc[0:20, ['original german', 'freq']], ax=axes[1])\n",
    "axes[1].set_title('German', fontsize=title_font_size)\n",
    "axes[1].set_ylabel('', fontsize=label_font_size)\n",
    "axes[1].set_xlabel('', fontsize=label_font_size)\n",
    "axes[1].tick_params(labelsize=tick_font_size)\n",
    "\n",
    "plt.tight_layout()\n",
    "f.savefig(os.path.join(os.curdir, 'Pics', '1_high_freq_words.png'))\n",
    "plt.show()"
   ]
  },
  {
   "cell_type": "code",
   "execution_count": 126,
   "metadata": {},
   "outputs": [
    {
     "data": {
      "image/png": "[encoded data removed]",
      "text/plain": [
       "<Figure size 720x720 with 1 Axes>"
      ]
     },
     "metadata": {},
     "output_type": "display_data"
    }
   ],
   "source": [
    "sns.set(style=\"whitegrid\")\n",
    "f, axes = plt.subplots(1, 1, figsize=(10, 10))\n",
    "\n",
    "top_num = 20\n",
    "sns.scatterplot(x=\"freq_normalized\", \n",
    "                y=\"freq_ger_normalized\",\n",
    "                data=joined_2_df_sorted[top_num:],\n",
    "                ax=axes)\n",
    "\n",
    "sns.scatterplot(x=\"freq_normalized\", \n",
    "                y=\"freq_ger_normalized\", \n",
    "                data=joined_2_df_sorted[:top_num],\n",
    "                ax=axes)\n",
    "\n",
    "for word, ori, freq_normalized,\\\n",
    "    freq_ger_normalized in zip(joined_2_df_sorted.loc[:top_num, 'word'],\n",
    "                               joined_2_df_sorted.loc[:top_num, 'original german'],\n",
    "                               joined_2_df_sorted.loc[:top_num, 'freq_normalized'],\n",
    "                               joined_2_df_sorted.loc[:top_num, 'freq_ger_normalized']):\n",
    "    axes.text(freq_normalized + .00002, freq_ger_normalized, word + ': ' + ori, fontsize=16)\n",
    "\n",
    "axes.set_ylabel('Percentage', fontsize=18)\n",
    "axes.set_xlabel('Percentage', fontsize=18)\n",
    "axes.tick_params(labelsize=15)\n",
    "\n",
    "plt.tight_layout()\n",
    "f.savefig(os.path.join(os.curdir, 'Pics', '2_compare_high_words.png'))\n",
    "plt.show()"
   ]
  },
  {
   "cell_type": "code",
   "execution_count": 146,
   "metadata": {},
   "outputs": [
    {
     "data": {
      "image/png": "[encoded data removed]",
      "text/plain": [
       "<Figure size 720x720 with 3 Axes>"
      ]
     },
     "metadata": {},
     "output_type": "display_data"
    }
   ],
   "source": [
    "sns.set(style=\"whitegrid\")\n",
    "\n",
    "top_num = 50\n",
    "tg = joined_2_df_sorted[:top_num]\n",
    "ax1 = sns.jointplot(x=\"freq_normalized\", \n",
    "                   y=\"freq_ger_normalized\", \n",
    "                   data=tg, \n",
    "                   kind=\"reg\", height=10)\n",
    "ax1.ax_joint.set_ylabel('German', fontsize=18)\n",
    "ax1.ax_joint.set_xlabel('English', fontsize=18)\n",
    "ax1.ax_joint.tick_params(labelsize=15)\n",
    "\n",
    "\n",
    "ax1.savefig(os.path.join(os.curdir, 'Pics', '3_ratio_compare.png'))\n",
    "plt.show()"
   ]
  },
  {
   "cell_type": "code",
   "execution_count": null,
   "metadata": {},
   "outputs": [],
   "source": []
  }
 ],
 "metadata": {
  "kernelspec": {
   "display_name": "Python 3",
   "language": "python",
   "name": "python3"
  },
  "language_info": {
   "codemirror_mode": {
    "name": "ipython",
    "version": 3
   },
   "file_extension": ".py",
   "mimetype": "text/x-python",
   "name": "python",
   "nbconvert_exporter": "python",
   "pygments_lexer": "ipython3",
   "version": "3.6.7"
  }
 },
 "nbformat": 4,
 "nbformat_minor": 2
}
